{
 "cells": [
  {
   "cell_type": "markdown",
   "id": "40e8fd44",
   "metadata": {},
   "source": [
    "# Importing Modules and Libraries Required"
   ]
  },
  {
   "cell_type": "code",
   "execution_count": 1,
   "id": "fd1d9654",
   "metadata": {},
   "outputs": [],
   "source": [
    "import numpy as np\n",
    "import pandas as pd\n",
    "from sklearn.model_selection import train_test_split\n",
    "\n",
    "# Visualization libraries\n",
    "\n",
    "import matplotlib.pyplot as plt\n",
    "import seaborn as sns\n",
    "from mpl_toolkits import mplot3d\n",
    "%matplotlib inline\n",
    "\n",
    "# Classifiers\n",
    "\n",
    "from lightgbm import LGBMClassifier\n",
    "from xgboost import XGBClassifier\n",
    "from sklearn.ensemble import VotingClassifier\n",
    "\n",
    "#Data pre-processing Libraries\n",
    "\n",
    "from imblearn.over_sampling import SMOTE\n",
    "from imblearn.over_sampling import KMeansSMOTE\n",
    "import miceforest as miceforest\n",
    "\n",
    "# Other libraries\n",
    "\n",
    "import sys\n",
    "import warnings\n",
    "warnings.filterwarnings('ignore')"
   ]
  },
  {
   "cell_type": "markdown",
   "id": "9e7b3806",
   "metadata": {},
   "source": [
    "# Data Importing and Cleaning"
   ]
  },
  {
   "cell_type": "code",
   "execution_count": 2,
   "id": "b93ba4bf",
   "metadata": {},
   "outputs": [],
   "source": [
    "X = pd.read_csv('TrainingData.csv')\n",
    "X.replace([\"C\", \"L\"], [0,1], inplace=True) #Replacing Credit and Lending Card with [0,1]\n",
    "X = X.drop(columns=['application_key'])\n",
    "X = X.apply(pd.to_numeric, errors='coerce') #Convering missing values place-holders like missing, na, N/A etc. into NaN"
   ]
  },
  {
   "cell_type": "code",
   "execution_count": 3,
   "id": "61b33a90",
   "metadata": {},
   "outputs": [],
   "source": [
    "y = X['default_ind']"
   ]
  },
  {
   "cell_type": "markdown",
   "id": "99c195b6",
   "metadata": {},
   "source": [
    "# Mice Imputation"
   ]
  },
  {
   "cell_type": "code",
   "execution_count": 4,
   "id": "74d67b31",
   "metadata": {
    "collapsed": true
   },
   "outputs": [
    {
     "name": "stdout",
     "output_type": "stream",
     "text": [
      "Initialized logger with name mice 1-6\n",
      "Dataset 0\n",
      "1  | mvar19 | mvar34 | mvar28 | mvar38 | mvar20 | mvar29 | mvar5 | mvar4 | mvar3 | mvar10 | mvar43 | mvar33 | mvar42 | mvar36 | mvar50 | mvar51 | mvar1 | mvar2 | mvar39 | mvar7 | mvar37 | mvar25 | mvar32 | mvar44 | mvar13 | mvar26 | mvar9 | mvar27 | mvar12 | mvar18 | mvar17 | mvar16 | mvar24 | mvar6 | mvar8 | mvar21 | mvar46 | mvar22 | mvar15 | mvar35 | mvar30 | mvar23 | mvar45 | mvar11 | mvar41 | mvar31 | mvar40\n",
      "2  | mvar19 | mvar34 | mvar28 | mvar38 | mvar20 | mvar29 | mvar5 | mvar4 | mvar3 | mvar10 | mvar43 | mvar33 | mvar42 | mvar36 | mvar50 | mvar51 | mvar1 | mvar2 | mvar39 | mvar7 | mvar37 | mvar25 | mvar32 | mvar44 | mvar13 | mvar26 | mvar9 | mvar27 | mvar12 | mvar18 | mvar17 | mvar16 | mvar24 | mvar6 | mvar8 | mvar21 | mvar46 | mvar22 | mvar15 | mvar35 | mvar30 | mvar23 | mvar45 | mvar11 | mvar41 | mvar31 | mvar40\n",
      "3  | mvar19 | mvar34 | mvar28 | mvar38 | mvar20 | mvar29 | mvar5 | mvar4 | mvar3 | mvar10 | mvar43 | mvar33 | mvar42 | mvar36 | mvar50 | mvar51 | mvar1 | mvar2 | mvar39 | mvar7 | mvar37 | mvar25 | mvar32 | mvar44 | mvar13 | mvar26 | mvar9 | mvar27 | mvar12 | mvar18 | mvar17 | mvar16 | mvar24 | mvar6 | mvar8 | mvar21 | mvar46 | mvar22 | mvar15 | mvar35 | mvar30 | mvar23 | mvar45 | mvar11 | mvar41 | mvar31 | mvar40\n",
      "4  | mvar19 | mvar34 | mvar28 | mvar38 | mvar20 | mvar29 | mvar5 | mvar4 | mvar3 | mvar10 | mvar43 | mvar33 | mvar42 | mvar36 | mvar50 | mvar51 | mvar1 | mvar2 | mvar39 | mvar7 | mvar37 | mvar25 | mvar32 | mvar44 | mvar13 | mvar26 | mvar9 | mvar27 | mvar12 | mvar18 | mvar17 | mvar16 | mvar24 | mvar6 | mvar8 | mvar21 | mvar46 | mvar22 | mvar15 | mvar35 | mvar30 | mvar23 | mvar45 | mvar11 | mvar41 | mvar31 | mvar40\n",
      "5  | mvar19 | mvar34 | mvar28 | mvar38 | mvar20 | mvar29 | mvar5 | mvar4 | mvar3 | mvar10 | mvar43 | mvar33 | mvar42 | mvar36 | mvar50 | mvar51 | mvar1 | mvar2 | mvar39 | mvar7 | mvar37 | mvar25 | mvar32 | mvar44 | mvar13 | mvar26 | mvar9 | mvar27 | mvar12 | mvar18 | mvar17 | mvar16 | mvar24 | mvar6 | mvar8 | mvar21 | mvar46 | mvar22 | mvar15 | mvar35 | mvar30 | mvar23 | mvar45 | mvar11 | mvar41 | mvar31 | mvar40\n",
      "6  | mvar19 | mvar34 | mvar28 | mvar38 | mvar20 | mvar29 | mvar5 | mvar4 | mvar3 | mvar10 | mvar43 | mvar33 | mvar42 | mvar36 | mvar50 | mvar51 | mvar1 | mvar2 | mvar39 | mvar7 | mvar37 | mvar25 | mvar32 | mvar44 | mvar13 | mvar26 | mvar9 | mvar27 | mvar12 | mvar18 | mvar17 | mvar16 | mvar24 | mvar6 | mvar8 | mvar21 | mvar46 | mvar22 | mvar15 | mvar35 | mvar30 | mvar23 | mvar45 | mvar11 | mvar41 | mvar31 | mvar40\n"
     ]
    }
   ],
   "source": [
    "kernel = miceforest.ImputationKernel(data=X, save_all_iterations=True, random_state=8) #Kernal Instance for mice imputer\n",
    "kernel.mice(6,verbose=True) #Training the kernal\n",
    "new_data_imputed = kernel.impute_new_data(X) #Imputing\n",
    "\n",
    "X = new_data_imputed.complete_data(0) #Return a completed dataset"
   ]
  },
  {
   "cell_type": "code",
   "execution_count": 5,
   "id": "b8fdb6e4",
   "metadata": {},
   "outputs": [],
   "source": [
    "X = X.drop(columns=['default_ind'])"
   ]
  },
  {
   "cell_type": "markdown",
   "id": "b63cf2be",
   "metadata": {},
   "source": [
    "# SMOTE class balancing"
   ]
  },
  {
   "cell_type": "code",
   "execution_count": 6,
   "id": "29b05988",
   "metadata": {},
   "outputs": [],
   "source": [
    "sm = SMOTE(random_state=42, sampling_strategy=1.0) #Creating SMOTE Instance\n",
    "X_smote, y_smote = sm.fit_resample(X, y) #Re-sampling"
   ]
  },
  {
   "cell_type": "code",
   "execution_count": 7,
   "id": "dd9ab89f",
   "metadata": {},
   "outputs": [
    {
     "data": {
      "image/png": "[encoded data removed]",
      "text/plain": [
       "<Figure size 864x288 with 2 Axes>"
      ]
     },
     "metadata": {
      "needs_background": "light"
     },
     "output_type": "display_data"
    }
   ],
   "source": [
    "fig, axes = plt.subplots(nrows=1, ncols=2, figsize=[12,4])\n",
    "y.value_counts().plot.bar(grid=True, ax=axes[0], title=\"Before SMOTE\")\n",
    "y_smote.value_counts().plot.bar(grid=True, ax=axes[1], title=\"After SMOTE\")\n",
    "plt.show()"
   ]
  },
  {
   "cell_type": "markdown",
   "id": "36aad7d2",
   "metadata": {},
   "source": [
    "# Voting Classifier with XGBoost & LGBM"
   ]
  },
  {
   "cell_type": "code",
   "execution_count": 8,
   "id": "473f68ee",
   "metadata": {},
   "outputs": [],
   "source": [
    "estimators = []\n",
    "\n",
    "model_1 = XGBClassifier(n_estimators=130,\n",
    "                      \n",
    "                      learning_rate=0.05,\n",
    "                      objective='binary:logistic',\n",
    "                      subsample=0.5,         \n",
    "                      colsample_bytree=0.5,  \n",
    "                      scale_pos_weight=2.47, \n",
    "                      random_state=123)\n",
    "estimators.append(('xgb', model_1))\n",
    "\n",
    "model_2 = LGBMClassifier(n_estimators=130,\n",
    "                       \n",
    "                       learning_rate=0.05, \n",
    "                       objective='binary',\n",
    "                       subsample=0.5,         \n",
    "                       colsample_bytree=0.5, \n",
    "                       scale_pos_weight=2.47,\n",
    "                       random_state=123)\n",
    "estimators.append(('lgb', model_2))\n",
    "\n",
    "# Voting Classifier\n",
    "clf = VotingClassifier(estimators, voting='soft')"
   ]
  },
  {
   "cell_type": "code",
   "execution_count": 9,
   "id": "3bcc1023",
   "metadata": {},
   "outputs": [],
   "source": [
    "model = clf.fit(X_smote, y_smote) #Training the model"
   ]
  },
  {
   "cell_type": "markdown",
   "id": "5d46ea7b",
   "metadata": {},
   "source": [
    "# Preparing and Predicting on the Test Data"
   ]
  },
  {
   "cell_type": "code",
   "execution_count": 10,
   "id": "5c819ded",
   "metadata": {
    "collapsed": true
   },
   "outputs": [
    {
     "name": "stdout",
     "output_type": "stream",
     "text": [
      "Initialized logger with name mice 1-6\n",
      "Dataset 0\n",
      "1  | mvar19 | mvar3 | mvar4 | mvar5 | mvar10 | mvar28 | mvar29 | mvar34 | mvar20 | mvar38 | mvar43 | mvar33 | mvar42 | mvar36 | mvar50 | mvar1 | mvar51 | mvar2 | mvar39 | mvar7 | mvar25 | mvar37 | mvar32 | mvar44 | mvar13 | mvar26 | mvar9 | mvar27 | mvar12 | mvar18 | mvar17 | mvar16 | mvar24 | mvar6 | mvar8 | mvar21 | mvar46 | mvar22 | mvar15 | mvar35 | mvar30 | mvar23 | mvar45 | mvar11 | mvar41 | mvar31 | mvar40\n",
      "2  | mvar19 | mvar3 | mvar4 | mvar5 | mvar10 | mvar28 | mvar29 | mvar34 | mvar20 | mvar38 | mvar43 | mvar33 | mvar42 | mvar36 | mvar50 | mvar1 | mvar51 | mvar2 | mvar39 | mvar7 | mvar25 | mvar37 | mvar32 | mvar44 | mvar13 | mvar26 | mvar9 | mvar27 | mvar12 | mvar18 | mvar17 | mvar16 | mvar24 | mvar6 | mvar8 | mvar21 | mvar46 | mvar22 | mvar15 | mvar35 | mvar30 | mvar23 | mvar45 | mvar11 | mvar41 | mvar31 | mvar40\n",
      "3  | mvar19 | mvar3 | mvar4 | mvar5 | mvar10 | mvar28 | mvar29 | mvar34 | mvar20 | mvar38 | mvar43 | mvar33 | mvar42 | mvar36 | mvar50 | mvar1 | mvar51 | mvar2 | mvar39 | mvar7 | mvar25 | mvar37 | mvar32 | mvar44 | mvar13 | mvar26 | mvar9 | mvar27 | mvar12 | mvar18 | mvar17 | mvar16 | mvar24 | mvar6 | mvar8 | mvar21 | mvar46 | mvar22 | mvar15 | mvar35 | mvar30 | mvar23 | mvar45 | mvar11 | mvar41 | mvar31 | mvar40\n",
      "4  | mvar19 | mvar3 | mvar4 | mvar5 | mvar10 | mvar28 | mvar29 | mvar34 | mvar20 | mvar38 | mvar43 | mvar33 | mvar42 | mvar36 | mvar50 | mvar1 | mvar51 | mvar2 | mvar39 | mvar7 | mvar25 | mvar37 | mvar32 | mvar44 | mvar13 | mvar26 | mvar9 | mvar27 | mvar12 | mvar18 | mvar17 | mvar16 | mvar24 | mvar6 | mvar8 | mvar21 | mvar46 | mvar22 | mvar15 | mvar35 | mvar30 | mvar23 | mvar45 | mvar11 | mvar41 | mvar31 | mvar40\n",
      "5  | mvar19 | mvar3 | mvar4 | mvar5 | mvar10 | mvar28 | mvar29 | mvar34 | mvar20 | mvar38 | mvar43 | mvar33 | mvar42 | mvar36 | mvar50 | mvar1 | mvar51 | mvar2 | mvar39 | mvar7 | mvar25 | mvar37 | mvar32 | mvar44 | mvar13 | mvar26 | mvar9 | mvar27 | mvar12 | mvar18 | mvar17 | mvar16 | mvar24 | mvar6 | mvar8 | mvar21 | mvar46 | mvar22 | mvar15 | mvar35 | mvar30 | mvar23 | mvar45 | mvar11 | mvar41 | mvar31 | mvar40\n",
      "6  | mvar19 | mvar3 | mvar4 | mvar5 | mvar10 | mvar28 | mvar29 | mvar34 | mvar20 | mvar38 | mvar43 | mvar33 | mvar42 | mvar36 | mvar50 | mvar1 | mvar51 | mvar2 | mvar39 | mvar7 | mvar25 | mvar37 | mvar32 | mvar44 | mvar13 | mvar26 | mvar9 | mvar27 | mvar12 | mvar18 | mvar17 | mvar16 | mvar24 | mvar6 | mvar8 | mvar21 | mvar46 | mvar22 | mvar15 | mvar35 | mvar30 | mvar23 | mvar45 | mvar11 | mvar41 | mvar31 | mvar40\n"
     ]
    }
   ],
   "source": [
    "test = pd.read_csv('testX.csv')\n",
    "test.replace([\"C\", \"L\"], [0,1], inplace=True) #Replacing Credit and Lending Card with [0,1]\n",
    "test = test.drop(columns=['application_key'])\n",
    "test = test.apply(pd.to_numeric, errors='coerce') #Convering missing values place-holders like missing, na, N/A etc. into NaN\n",
    "\n",
    "# Imputation\n",
    "kernel_test = miceforest.ImputationKernel(data=test, save_all_iterations=True, random_state=8) #Kernal Instance for mice imputer\n",
    "kernel_test.mice(6,verbose=True) #Training the kernal\n",
    "new_test_imputed = kernel_test.impute_new_data(test) #Imputing\n",
    "test = new_test_imputed.complete_data(0) #Return a completed test set"
   ]
  },
  {
   "cell_type": "code",
   "execution_count": 11,
   "id": "b0f05a79",
   "metadata": {},
   "outputs": [],
   "source": [
    "y_pred = model.predict(test) #Final Predictions"
   ]
  },
  {
   "cell_type": "markdown",
   "id": "ca7e7562",
   "metadata": {},
   "source": [
    "$$\n",
    "Thank You\n",
    "$$"
   ]
  }
 ],
 "metadata": {
  "kernelspec": {
   "display_name": "Python 3",
   "language": "python",
   "name": "python3"
  },
  "language_info": {
   "codemirror_mode": {
    "name": "ipython",
    "version": 3
   },
   "file_extension": ".py",
   "mimetype": "text/x-python",
   "name": "python",
   "nbconvert_exporter": "python",
   "pygments_lexer": "ipython3",
   "version": "3.8.8"
  }
 },
 "nbformat": 4,
 "nbformat_minor": 5
}
